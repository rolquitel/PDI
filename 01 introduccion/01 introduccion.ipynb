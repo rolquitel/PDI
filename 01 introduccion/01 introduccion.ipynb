{
 "cells": [
  {
   "cell_type": "markdown",
   "metadata": {},
   "source": [
    "# Fundamentos de Procesamiento Digital de Imágenes "
   ]
  },
  {
   "cell_type": "markdown",
   "metadata": {},
   "source": [
    "## Contenido\n",
    "\n",
    "1. Introducción \n",
    "1. Fundamentos de la imagen digital \n",
    "1. Transformaciones de intensidad y filtraje espacial \n",
    "1. Filtraje en el dominio de las frecuencias \n",
    "1. Restauración y reconstrucción de imágenes \n"
   ]
  },
  {
   "cell_type": "markdown",
   "metadata": {
    "slideshow": {
     "slide_type": "slide"
    }
   },
   "source": [
    "## 1. Introducción"
   ]
  },
  {
   "cell_type": "markdown",
   "metadata": {
    "slideshow": {
     "slide_type": "slide"
    }
   },
   "source": [
    "\n",
    "- ¿Qué es una imagen digital? \n",
    "- Algo de historia\n",
    "- Ejemplos de los campos que usan el PDI\n",
    "- Pasos fundamentales en el PDI\n",
    "- Componentes de un sistema de PDI"
   ]
  },
  {
   "cell_type": "markdown",
   "metadata": {
    "slideshow": {
     "slide_type": "subslide"
    }
   },
   "source": [
    "### ¿Qué es una imagen digital?\n",
    "\n",
    "- Una imagen puede definirse como una función bidimensional, f (x, y), donde x y y son coordenadas (planas) espaciales y la amplitud de f, en cualquier par de coordenadas (x, y), es llamada la intensidad de la imagen en ese punto \n",
    "\n",
    "- Cuando (x, y) y los valores de amplitud de f son todos cantidades discretas finitas, le llamamos a la imagen una imagen digital\n"
   ]
  },
  {
   "cell_type": "markdown",
   "metadata": {
    "slideshow": {
     "slide_type": "subslide"
    }
   },
   "source": [
    "### ¿Qué es el procesamiento de imágenes digitales? \n",
    "\n",
    "- Es el campo donde se procesan imágenes digitales por medio de una computadora digital \n",
    "    - Procesamiento de bajo nivel (preprocesamiento: limpieza de ruidos, mejoramiento del contraste, modificación de la brillantez, etc.) \n",
    "    - Procesamiento de nivel medio (segmentación, descripción de objetos, clasificación de objetos individuales, etc.) \n",
    "    - Procesamiento de alto nivel (análisis de imágenes, funciones cognoscitivas, etc.) \n",
    "\n",
    "\n",
    "- A cada uno de los elementos que componen una imagen digital se le llama elemento de imagen, o píxel (picture element)"
   ]
  },
  {
   "cell_type": "markdown",
   "metadata": {
    "slideshow": {
     "slide_type": "subslide"
    }
   },
   "source": [
    "### Algo de historia\n",
    "\n",
    "- Avances claves en la computación, que le dieron la potencia suficiente para procesar imágenes:\n",
    "    - Memoria para datos y programas y \n",
    "    - Ramificación condicional, 1940 -> CPU\n",
    "    - Invención del transistor (Bell Laboratories, 1948) \n",
    "    - Desarrollo de lenguajes de alto nivel (1950s-1960s) \n",
    "    - Invención de los circuitos integrados (Texas Instruments, 1958) \n",
    "    - Desarrollo de los sistemas operativos (principio de los 60s)\n",
    "    - Desarrollo del microprocesador (Intel, principio de los 70s)\n",
    "    - Introducción de la computadora personal (IBM, 1981) \n",
    "    - Miniaturización progresiva de los componentes (LI, finales de los 70s; VLSI, 80s; y ULSI, actualidad) \n"
   ]
  },
  {
   "cell_type": "markdown",
   "metadata": {
    "slideshow": {
     "slide_type": "subslide"
    }
   },
   "source": [
    "### Areas de aplicación\n",
    "\n",
    "- Espacio extraterrestre (astronomía, ...)\n",
    "- Percepción remota (agricultura, clima, ...)\n",
    "- Medicina convencional y nuclear (tomografía axial computarizada, ...) \n",
    "- Ciencias biológicas (reconocimiento de cromosomas, ...)\n",
    "- Ciencias geográficas (estudio de patrones de contaminación, predicción del clima, protección del medio ambiente, ...)\n",
    "- Arqueología (restauración de imágenes borrosas, ...)\n",
    "- Física y campos relacionados (plasmas de alta energía, microscopía electrónica, ...)\n",
    "- Criminología (análisis de ADN, ...)\n",
    "- Medicina forense (reconocimiento de huellas digitales, ...)\n",
    "- Defensa (reconocimiento militar, guiado de proyectiles,...)\n",
    "- Industria (control de calidad, labores riesgosas, ...)\n",
    "- Percepción por computadoras (reconocimiento automático de caracteres, visión industrial [inspección, ensamblaje automático, robótica, ...])\n"
   ]
  },
  {
   "cell_type": "markdown",
   "metadata": {},
   "source": [
    "### Espectro electromagnético "
   ]
  },
  {
   "cell_type": "markdown",
   "metadata": {},
   "source": [
    "<img src=\"figs/espectro1.svg\">"
   ]
  },
  {
   "cell_type": "markdown",
   "metadata": {},
   "source": [
    "#### Rayos gama"
   ]
  },
  {
   "cell_type": "markdown",
   "metadata": {},
   "source": [
    "<img src=\"figs/gamma.png\" width=800>"
   ]
  },
  {
   "cell_type": "markdown",
   "metadata": {},
   "source": [
    "#### Rayos X"
   ]
  },
  {
   "cell_type": "markdown",
   "metadata": {},
   "source": [
    "<img src=\"figs/rayosx_1.jpg\" width=800>"
   ]
  },
  {
   "cell_type": "markdown",
   "metadata": {},
   "source": [
    "<img src=\"figs/rayosx_2.jpg\" width=800>"
   ]
  },
  {
   "cell_type": "markdown",
   "metadata": {},
   "source": [
    "#### Ultravioleta"
   ]
  },
  {
   "cell_type": "markdown",
   "metadata": {},
   "source": [
    "<img src=\"figs/uv1.png\" width=800>"
   ]
  },
  {
   "cell_type": "markdown",
   "metadata": {},
   "source": [
    "<img src=\"figs/uv2.jpg\" width=800>"
   ]
  },
  {
   "cell_type": "markdown",
   "metadata": {},
   "source": [
    "#### Imagenes multiespectrales"
   ]
  },
  {
   "cell_type": "markdown",
   "metadata": {},
   "source": [
    "<video controls src=\"figs/multiespectral.mp4\" width=800>"
   ]
  },
  {
   "cell_type": "markdown",
   "metadata": {},
   "source": [
    "<img src=\"figs/multiespectral.png\" width=800>"
   ]
  },
  {
   "cell_type": "markdown",
   "metadata": {},
   "source": [
    "#### Infrarrojo"
   ]
  },
  {
   "cell_type": "markdown",
   "metadata": {},
   "source": [
    "<img src=\"figs/ir1.jpg\" width=800>"
   ]
  },
  {
   "cell_type": "markdown",
   "metadata": {},
   "source": [
    "<img src=\"figs/ir2.jpg\" width=800>"
   ]
  },
  {
   "cell_type": "markdown",
   "metadata": {},
   "source": [
    "<img src=\"figs/ir3.jpeg\" width=800>"
   ]
  },
  {
   "cell_type": "markdown",
   "metadata": {},
   "source": [
    "#### Espectro visible"
   ]
  },
  {
   "cell_type": "markdown",
   "metadata": {},
   "source": [
    "<img src=\"figs/visible.gif\" width=800>"
   ]
  },
  {
   "cell_type": "markdown",
   "metadata": {},
   "source": [
    "<img src=\"figs/visible2.jpg\" width=800>"
   ]
  },
  {
   "cell_type": "markdown",
   "metadata": {},
   "source": [
    "<img src=\"figs/visible3.png\" width=800>"
   ]
  },
  {
   "cell_type": "markdown",
   "metadata": {},
   "source": [
    "#### Radar"
   ]
  },
  {
   "cell_type": "markdown",
   "metadata": {},
   "source": [
    "<img src=\"figs/radar1.jpg\" width=800>"
   ]
  },
  {
   "cell_type": "markdown",
   "metadata": {},
   "source": [
    "<img src=\"figs/radar2.png\" width=800>"
   ]
  },
  {
   "cell_type": "markdown",
   "metadata": {},
   "source": [
    "<img src=\"figs/radar3.png\" width=800>"
   ]
  },
  {
   "cell_type": "markdown",
   "metadata": {},
   "source": [
    "#### Resonancia magnética (MRI)"
   ]
  },
  {
   "cell_type": "markdown",
   "metadata": {},
   "source": [
    "<img src=\"figs/rmi1.jpg\" width=800>"
   ]
  },
  {
   "cell_type": "markdown",
   "metadata": {},
   "source": [
    "#### Ultrasonido"
   ]
  },
  {
   "cell_type": "markdown",
   "metadata": {},
   "source": [
    "<img src=\"figs/ultrasonido1.jpg\" width=800>"
   ]
  },
  {
   "cell_type": "markdown",
   "metadata": {},
   "source": [
    "### Pasos fundamentales en PDI para el análisis\n",
    "\n",
    "<img src=\"figs/pasos_fundamentales.png\" width=800>"
   ]
  },
  {
   "cell_type": "markdown",
   "metadata": {},
   "source": [
    "#### Adquisición de imágenes\n",
    "\n",
    "Es el primer proceso y puede ser tan simple como dar una imagen que ya se encuentra en formato digital. Generalmente, la adquisición involucra preprocesamiento\n"
   ]
  },
  {
   "cell_type": "markdown",
   "metadata": {},
   "source": [
    "#### Mejoramiento de la imagen\n",
    "\n",
    "Es el proceso de manipular una imagen de tal manera que el resultado se acomoda más a una aplicación específica que la imagen original\n"
   ]
  },
  {
   "cell_type": "markdown",
   "metadata": {},
   "source": [
    "#### Restauración\n",
    "\n",
    "Es un area que además de lidiar con el mejoramiento de la apariencia de la imagen, que es subjetivo, la restauración es objetiva, en el sentido que las técnicas de restauración tienden a ser basadas en modelos matemáticos o probabilísticos de la degradación de la imagen\n",
    "\n",
    "<img src=\"figs/restore1.png\" width=800>"
   ]
  },
  {
   "cell_type": "markdown",
   "metadata": {},
   "source": [
    "#### Procesamiento de imágenes a color\n",
    "\n",
    "Es un area que han ganado importancia debido al incremento significativo en el uso de imágenes digitales en Internet. El color es utilizado como una base para la extracción de características de interés en una imagen\n"
   ]
  },
  {
   "cell_type": "markdown",
   "metadata": {},
   "source": [
    "#### Wavelets\n",
    "\n",
    "Son el fundamento para representar imágenes en varios niveles de resolución. En particular, se pueden utilizar para la compresión de imágenes y para una representación piramidal\n",
    "\n",
    "<img src='figs/wavelets1.jpeg' width=800>"
   ]
  },
  {
   "cell_type": "markdown",
   "metadata": {},
   "source": [
    "#### Compresión\n",
    "\n",
    "Cómo su nombre lo indica, trata con las técnicas para reducir el almacenamiento requerido para guardar una imagen, o el ancho de banda requerido para transmitirla\n"
   ]
  },
  {
   "cell_type": "markdown",
   "metadata": {},
   "source": [
    "#### Procesamiento morfológico\n",
    "\n",
    "Trata con herramientas para extraer componentes de la imagen que sean útiles en la representación y descripción de las formas"
   ]
  },
  {
   "cell_type": "markdown",
   "metadata": {},
   "source": [
    "#### Segmentación\n",
    "\n",
    "Se trata de partir una imagen en sus partes que lo constituyen o en objetos. En general, la segmentación automática es uno de los problemas más difíciles en el procesamiento digital de imágenes\n",
    "\n",
    "<img src='figs/segmentacion1.jpeg' width=800>"
   ]
  },
  {
   "cell_type": "markdown",
   "metadata": {},
   "source": [
    "#### Extracción de características\n",
    "\n",
    "Casi siempre es etapa siguiente a la salida de la segmentación, que normalmente son datos crudos, que constituyen una región. Extracción de características consiste en la detección del qué representan esas regiones\n"
   ]
  },
  {
   "cell_type": "markdown",
   "metadata": {},
   "source": [
    "#### Clasificación de patrones\n",
    "\n",
    "Es un proceso que asigna una etiqueta a un objeto basada en los escritores de la característica\n"
   ]
  },
  {
   "cell_type": "markdown",
   "metadata": {},
   "source": [
    "### Componentes de un sistema de procesamiento de imágenes\n",
    "\n",
    "<img src='figs/componentes1.png' width=800>"
   ]
  },
  {
   "cell_type": "markdown",
   "metadata": {},
   "source": [
    "#### Hardware especializado\n",
    "\n",
    "* Sensores\n",
    "    * Son elementos que responden a la energía radiada por el objeto del cual queremos una imagen\n",
    "    -\n",
    "\n",
    "* Digitalizadores\n",
    "    * Es un dispositivo para convertir la salida del sensor a una forma digital. Por ejemplo, en una video cámara digital, en los sensores (chip CCD) producen una salida eléctrica proporcional a la intensidad de la luz. El digitalizador convierte esas salidas en datos digitales\n"
   ]
  },
  {
   "cell_type": "markdown",
   "metadata": {},
   "source": [
    "#### Computadoras\n",
    "\n",
    "* En un sistema de procesamiento de imágenes es un equipo de propósito general que puede estar en el rango desde una computadora personal hasta una super computadora\n",
    "\n",
    "* En aplicaciones dedicadas, algunas veces computadoras especializadas utilizan para alcanzar el nivel requerido de desempeño\n"
   ]
  },
  {
   "cell_type": "markdown",
   "metadata": {},
   "source": [
    "#### Software especializado\n",
    "\n",
    "* Consiste en módulos especializados que realizan tareas específicas\n",
    "\n",
    "* Un paquete bien diseñado además incluye la capacidad para que el usuario escriba la menor cantidad de código posible.\n",
    "\n",
    "* Sistemas más especializados permiten la integración de esos módulos y comandos de propósito general con al menos algún lenguaje de computadora."
   ]
  },
  {
   "cell_type": "markdown",
   "metadata": {},
   "source": [
    "#### Almacenamiento masivo\n",
    "\n",
    "* Es un requerimiento para las aplicaciones de procesamiento de imágenes. \n",
    "\n",
    "* Una imagen de tamaño 1024 × 1024 pixeles, en el que la intensidad de cada pixel es de una calidad de 8 bits, requiere 1 MB de espacio si la imagen no está comprimida. \n",
    "\n",
    "* Cuando se trabaja con bases de datos de imágenes que contienen miles, o incluso millones de imágenes, proveer el almacenamiento adecuado al sistema de procedimiento imágenes puede ser todo un reto."
   ]
  },
  {
   "cell_type": "markdown",
   "metadata": {},
   "source": [
    "* El almacenamiento en aplicaciones del procesamiento imágenes cae en tres categorías principales\n",
    "    * Almacenamiento de corto plazo para utilizar durante el proceso\n",
    "    * Almacenamiento en línea para llamadas relativamente rápidas\n",
    "    * Almacenamiento permanente, caracterizado por un acceso poco frecuente\n",
    "\n",
    "    \n",
    "    -\n",
    "\n",
    "* El almacenamiento se mide en bytes (conjuntos de 8 bits)\n",
    "    * Kilobytes KB ($2^{10}$ bytes ≈ $10^3$ bytes)\n",
    "    * Megabytes MB ($2^{20}$ bytes ≈ $10^6$ bytes)\n",
    "    * Gigabytes GB ($2^{30}$ bytes ≈ $10^9$ bytes)\n",
    "    * Terabytes TB ($2^{40}$ bytes ≈ $10^{12}$ bytes)\n",
    "\n",
    "<img src='figs/almacenamiento1.png' width=800>"
   ]
  },
  {
   "cell_type": "markdown",
   "metadata": {},
   "source": []
  },
  {
   "cell_type": "markdown",
   "metadata": {},
   "source": [
    "#### Dispositivos de despliegue\n",
    "\n",
    "* Actualmente se utilizan monitores de pantalla. Los cuales están guiados por las salidas de imagen y las tarjetas gráficas que son una parte integral de la computadora\n",
    "\n",
    "* En algunos casos, es necesario tener despliegues estereoscópicos, los cuales están implementados por medio de un casco que contiene dos pequeñas pantallas empotradas en googles cercanos a los ojos del usuario\n",
    "\n",
    "<img src='figs/despliegue1.png' width=800>"
   ]
  },
  {
   "cell_type": "markdown",
   "metadata": {},
   "source": [
    "#### Almacenamiento duro\n",
    "\n",
    "* Incluyen impresoras láser, películas de cámara, sensores de calor, unidades de inyección de tinta. De igual forma, dispositivos de almacenamiento como discos compactos.\n",
    "\n",
    "* Las películas provién proveen la resolución más alta posible, pero el papel es el medio obvio para el almacenamiento de material escrito. Para presentaciones, las imágenes son desplegadas como transparencias De Pelicula, o en un medio digital si el equipo de proyección está equipado\n"
   ]
  },
  {
   "cell_type": "markdown",
   "metadata": {},
   "source": [
    "#### Red y nube\n",
    "\n",
    "* La comunicación vía Red o nube son funciones requeridas en los sistemas actuales de procesamiento de imágenes\n",
    "\n",
    "* El ancho de banda es la principal consideración en el diseño de las necesidades de comunicación\n",
    "\n",
    "* Afortunadamente, el ancho de banda mejora rápidamente como resultado de nuevas tecnologías de banda ancha como la fibra óptica\n",
    "\n",
    "* La compresión de imágenes continúa jugando un papel importante en la transmisión de grandes volúmenes de datos de imagen \n"
   ]
  },
  {
   "cell_type": "markdown",
   "metadata": {},
   "source": []
  }
 ],
 "metadata": {
  "kernelspec": {
   "display_name": "base",
   "language": "python",
   "name": "python3"
  },
  "language_info": {
   "name": "python",
   "version": "3.9.16"
  }
 },
 "nbformat": 4,
 "nbformat_minor": 2
}
