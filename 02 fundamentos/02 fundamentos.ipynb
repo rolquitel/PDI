{
 "cells": [
  {
   "cell_type": "markdown",
   "metadata": {
    "slideshow": {
     "slide_type": "slide"
    }
   },
   "source": [
    "# 2. Fundamentos de imágenes digitales"
   ]
  },
  {
   "cell_type": "markdown",
   "metadata": {
    "slideshow": {
     "slide_type": "slide"
    }
   },
   "source": [
    "## 2.1. Elementos de la percepción visual\n",
    "\n",
    "Aunque el campo de procesamiento de imágenes está construido en fundamentos matemáticos, el análisis y la intuición humana muchas veces juegan un papel en la selección de una técnica contra otra.\n",
    "\n",
    "Por ello, entender las características básicas de la percepción humana es un primer paso en nuestra jornada hacia el procesamiento de imágenes.\n"
   ]
  },
  {
   "cell_type": "markdown",
   "metadata": {
    "slideshow": {
     "slide_type": "subslide"
    }
   },
   "source": [
    "### Estructura del ojo humano\n",
    "\n",
    "La retina cuenta con dos tipos de receptores: conos y bastones\n",
    "\n",
    "Hay entre 6 y 7 millones de conos en cada ojo. Se encuentran localizados principalmente en la porción central de la retina, llamada fovea, y que es altamente sensible al color\n",
    "\n",
    "Los humanos podemos resolver detalles finos debido a que cada cono está conectado a su propia terminal nerviosa\n",
    "\n",
    "La visión proporcionada por los conos es llamada fotópica o visión de luz brillante\n",
    "\n",
    "Contamos con un número mucho más grande de bastones, entre 75 y 150 millones se encuentran distribuidos en la retina\n"
   ]
  },
  {
   "cell_type": "markdown",
   "metadata": {
    "slideshow": {
     "slide_type": "subslide"
    }
   },
   "source": [
    "![Estructura del ojo humano](figs/ojo.png)"
   ]
  },
  {
   "cell_type": "markdown",
   "metadata": {
    "slideshow": {
     "slide_type": "subslide"
    }
   },
   "source": [
    "![Conos y bastones](figs/conos_bastones.png)"
   ]
  },
  {
   "cell_type": "markdown",
   "metadata": {
    "slideshow": {
     "slide_type": "subslide"
    }
   },
   "source": [
    "### Formación de la imagen en el ojo humano\n",
    "\n",
    "![Visión humana](figs/formacion.png)"
   ]
  },
  {
   "cell_type": "markdown",
   "metadata": {
    "slideshow": {
     "slide_type": "slide"
    }
   },
   "source": [
    "## 2.2. La luz y el espectro electromagnético\n",
    "\n",
    "En 1666, Sir Isaac Newton descubrió que cuando un rayo de luz solar pasa a través de un prisma de vidrio, el rayo de luz que emerge no es blanco sino que consiste en un espectro continuo de colores que van desde el violeta en un extremo hasta el rojo en el otro.\n",
    "\n",
    "La gama de colores que percibimos en la luz visible es una pequeña porción del espectro electromagnético. \n",
    "\n",
    "En un extremo del espectro están las ondas de radio con longitudes de onda miles de millones de veces más largas que las de la luz visible. En el otro extremo del espectro se encuentran los rayos gamma con longitudes de onda millones de veces más pequeñas que las de la luz visible.\n",
    "\n",
    "![Expectro](figs/espectro.png)"
   ]
  },
  {
   "cell_type": "markdown",
   "metadata": {
    "slideshow": {
     "slide_type": "subslide"
    }
   },
   "source": [
    "$$ \\lambda = \\frac{c}{f}$$\n",
    "\n",
    "- $\\lambda$ es la longitud de onda (m)\n",
    "- $c$ es la velocidad de la luz ($2.998×10^8$ m/s)\n",
    "- $f$ es la frecuencia (Hz)\n"
   ]
  },
  {
   "cell_type": "markdown",
   "metadata": {
    "slideshow": {
     "slide_type": "subslide"
    }
   },
   "source": [
    "$$ E = hf $$\n",
    "\n",
    "- $E$ es la energía (eV)\n",
    "- $h$ es la constante de Planck ($6.626174×10^{−27}$)\n"
   ]
  },
  {
   "cell_type": "markdown",
   "metadata": {
    "slideshow": {
     "slide_type": "slide"
    }
   },
   "source": [
    "## 2.3. Adquisición y sensado de imagen\n",
    "\n",
    "### Sensores\n",
    "\n",
    "Sensor simple y sensor lineal\n",
    "\n",
    "![Sensores 1](figs/sensores_1.png)\n",
    "\n"
   ]
  },
  {
   "cell_type": "markdown",
   "metadata": {
    "slideshow": {
     "slide_type": "subslide"
    }
   },
   "source": [
    "Matriz de sensores\n",
    "\n",
    "![Sensores 2](figs/sensores_2.png)"
   ]
  },
  {
   "cell_type": "markdown",
   "metadata": {
    "slideshow": {
     "slide_type": "subslide"
    }
   },
   "source": [
    "Sensor rotativo\n",
    "\n",
    "![Sensores 3](figs/sensores_3.png)"
   ]
  },
  {
   "cell_type": "markdown",
   "metadata": {
    "slideshow": {
     "slide_type": "subslide"
    }
   },
   "source": [
    "### Arreglos de sensores\n",
    "\n",
    "![Arreglos de sensores](figs/arreglos.png)"
   ]
  },
  {
   "cell_type": "markdown",
   "metadata": {
    "slideshow": {
     "slide_type": "subslide"
    }
   },
   "source": [
    "### Modelo simple para la formación de imágenes\n",
    "\n",
    "$$ f(x,y) = i(x,y) r(x,y)$$\n",
    "\n",
    "- $ 0 \\leq f(x,y) < \\infty$\n",
    "- $ x,y $ son coordenadas en el espacio de la imagen\n",
    "- $ 0 \\leq i(x,y) < \\infty$ es la función de iluminación, determinada por la fuente de iluminación\n",
    "- $ 0 \\leq r(x,y) \\leq 1 $ es la función de reflectancia, determinada por las características del objeto"
   ]
  },
  {
   "cell_type": "markdown",
   "metadata": {
    "slideshow": {
     "slide_type": "subslide"
    }
   },
   "source": [
    "$$ \\ell = f(x,y) $$\n",
    "\n",
    "- $ L_{min} \\leq \\ell \\leq L_{max} $\n",
    "    * $ L_{min} = i_{min} r_{min} $ es NO negativa\n",
    "    * $ L_{max} = i_{max} r_{max} $ es finita"
   ]
  },
  {
   "cell_type": "markdown",
   "metadata": {
    "slideshow": {
     "slide_type": "slide"
    }
   },
   "source": [
    "## 2.4. Cuantización y muestreo de imágenes\n",
    "\n",
    "* La salida de la mayoría de los sensores es un voltaje contino cuya amplitud y comportamiento espacial están relacionados con el fenómeno físico que está sensando.\n",
    "\n",
    "* Para crear una imagen digital, necesitamos convertir los datos continuos en un formato digital. \n",
    "\n",
    "* Esto requiere dos procesos: muestreo y cuantización.\n"
   ]
  },
  {
   "cell_type": "markdown",
   "metadata": {
    "slideshow": {
     "slide_type": "subslide"
    }
   },
   "source": [
    "![Aspectos básicos](figs/aspectos_basicos.png)"
   ]
  },
  {
   "cell_type": "markdown",
   "metadata": {
    "slideshow": {
     "slide_type": "subslide"
    }
   },
   "source": [
    "### Resolución espacial\n",
    "\n",
    "* Depende de la frecuencia de muestreo. \n",
    "\n",
    "* Es el número de elementos por unidad de longitud.\n"
   ]
  },
  {
   "cell_type": "markdown",
   "metadata": {
    "slideshow": {
     "slide_type": "subslide"
    }
   },
   "source": [
    "### Resolución espectral\n",
    "\n",
    "* Depende de la cantidad de niveles de cuantización. \n",
    "\n",
    "* Es el número máximo de niveles posible que puede tener cada elemento en una imagen una vez digitalizada.\n"
   ]
  },
  {
   "cell_type": "markdown",
   "metadata": {
    "slideshow": {
     "slide_type": "subslide"
    }
   },
   "source": [
    "Resolución espacial y espectral\n",
    "\n",
    "![Resolución espacial y espectral](figs/resoluciones.png)"
   ]
  },
  {
   "cell_type": "markdown",
   "metadata": {
    "slideshow": {
     "slide_type": "subslide"
    }
   },
   "source": [
    "### Representación de imágenes digitales\n",
    "\n",
    "* El resultado del muestreo y la cuantización es una matriz de números reales. \n",
    "\n",
    "* Los valores de las coordenadas de origen son (𝑥,𝑦)=(0,0). \n",
    "\n",
    "* Los siguientes valores a lo largo de la primera fila son: (𝑥,𝑦)=(0,1);(0,2);(0,3);…\n",
    "\n",
    "* Éstos no son valores reales de las coordenadas físicas cuando la imagen fue muestreada, sino los de la segunda (tercera, cuarta) muestra a lo largo de la primera fila. \n"
   ]
  },
  {
   "cell_type": "markdown",
   "metadata": {
    "slideshow": {
     "slide_type": "subslide"
    }
   },
   "source": [
    "* De acuerdo a esta mutación, en el caso de una imagen de M filas y columnas, la imagen digital se puede representar como sigue:\n",
    "\n",
    "\\begin{equation}\n",
    "f(x,y) = \n",
    "\\begin{bmatrix}\n",
    "f(0,0) & f(0,1) & \\cdots & f(0,N-1)\\\\\n",
    "f(1,0) & f(1,1) & \\cdots & f(1,N-1)\\\\\n",
    "\\vdots & \\vdots &        & \\vdots \\\\\n",
    "f(M-1,0) & f(M-1,1) & \\cdots & f(M,N-1)\n",
    "\\end{bmatrix}\n",
    "\\end{equation}"
   ]
  },
  {
   "cell_type": "markdown",
   "metadata": {
    "slideshow": {
     "slide_type": "subslide"
    }
   },
   "source": [
    "* Otra forma de representar el modelo es a través de una matriz\n",
    "\n",
    "\\begin{equation}\n",
    "A = \n",
    "\\begin{bmatrix}\n",
    "a_{0,0} & a_{0,1} & \\cdots & a_{0,N-1}\\\\\n",
    "a_{1,0} & a_{1,1} & \\cdots & a_{1,N-1}\\\\\n",
    "\\vdots & \\vdots &        & \\vdots \\\\\n",
    "a_{M-1,0} & a_{M-1,1} & \\cdots & a_{M,N-1}\n",
    "\\end{bmatrix}\n",
    "\\end{equation}"
   ]
  },
  {
   "cell_type": "markdown",
   "metadata": {
    "slideshow": {
     "slide_type": "subslide"
    }
   },
   "source": [
    "![Representación de imágenes digitales](figs/representacion.png)"
   ]
  },
  {
   "cell_type": "markdown",
   "metadata": {
    "slideshow": {
     "slide_type": "subslide"
    }
   },
   "source": [
    "![Elementos de representación](figs/representaciones_2.png)"
   ]
  },
  {
   "cell_type": "markdown",
   "metadata": {
    "slideshow": {
     "slide_type": "subslide"
    }
   },
   "source": [
    "* Los niveles de quantización permitidos para cada pixel se representan por el número entero 𝐿. \n",
    "\n",
    "* Normalmente, con fines de facilitar el procesamiento, el almacenamiento y el muestreo, este número es, típicamente, una potencia de 2, es decir: \n",
    "    * $𝐿=2^k$\n",
    "\n",
    "\n",
    "* 𝑘 es el número de bits que se emplearán en la representación de los niveles\n",
    "* que representa valores igualmente espaciados y enteros en el intervalo $[0,𝐿−1]$\n"
   ]
  },
  {
   "cell_type": "markdown",
   "metadata": {
    "slideshow": {
     "slide_type": "subslide"
    }
   },
   "source": [
    "* Sea $I_(M \\times N)$ una imagen de $M$ filas y $N$ columnas\n",
    "* Entonces, el número de bits necesarios para almacenar dicha imagen es\n",
    "\n",
    "    * $ b = MNk $\n",
    "    * $ b = kN^2 $ si $ M=N$\n",
    "\n"
   ]
  },
  {
   "cell_type": "markdown",
   "metadata": {
    "slideshow": {
     "slide_type": "subslide"
    }
   },
   "source": [
    "<img src='figs/grafica_bytes.png' width=800>"
   ]
  },
  {
   "cell_type": "markdown",
   "metadata": {},
   "source": [
    "### Indexado lineal contra coordenadas\n",
    "\n",
    "La convención en la que la ubicación de un píxel está dada por sus coordenadas bidimensionales, se conoce como indexación de coordenadas o indexación de subíndices. \n",
    "\n",
    "Otro tipo de indexación que se utiliza ampliamente en la programación de algoritmos de procesamiento de imágenes es la indexación lineal, que consiste en una cadena unidimensional de números enteros no negativos basada en el cálculo de compensaciones de las coordenadas (0, 0). \n",
    "\n",
    "Hay dos tipos principales de indexación lineal, uno se basa en un escaneo de filas de una imagen y el otro en un escaneo de columnas."
   ]
  },
  {
   "cell_type": "markdown",
   "metadata": {},
   "source": [
    "La idea es escanear una imagen columna por columna, comenzando en el origen y avanzando hacia abajo y luego hacia la derecha. El índice lineal se basa en contar píxeles a medida que escaneamos la imagen como se muestra en la figura\n",
    "\n",
    "<img src='figs/linear_index.png' width=800>"
   ]
  },
  {
   "cell_type": "markdown",
   "metadata": {},
   "source": [
    "La fórmula para generar índices lineales basados en un escaneo de columnas es sencilla y puede determinarse mediante inspección. Para cualquier par de coordenadas (x, y), el valor del índice lineal correspondiente es:\n",
    "\n",
    "\\begin{equation}\n",
    "    \\begin{matrix}\n",
    "        \\alpha = My+x \\\\\n",
    "        x = \\alpha \\mod M \\\\\n",
    "        y = \\frac{( \\alpha - x )}{M}\n",
    "    \\end{matrix}\n",
    "\n",
    "\\end{equation}"
   ]
  },
  {
   "cell_type": "markdown",
   "metadata": {},
   "source": [
    "### Resolución espacial e intensidad\n",
    "\n",
    "Intuitivamente, la resolución espacial es la medida de lo más pequeño que se puede describir en una imagen. Cuantitativamente, la resolución espacial puede ser definida de varias formas: con *pares de líneas por unidad de distancia*, y *puntos por unidad de distancia* son los más comunes.\n",
    "\n",
    "<img src='figs/spatial_res.png' width=800>"
   ]
  },
  {
   "cell_type": "markdown",
   "metadata": {},
   "source": [
    "La resolución de intensidad se refiere de manera similar al cambio más pequeño discernible en el nivel de intensidad. \n",
    "\n",
    "Según consideraciones de hardware, el número de niveles de intensidad suele ser una potencia entera de dos. El número más común es de 8 bits, aunque se utilizan 16 bits en algunas aplicaciones en las que es necesario mejorar rangos de intensidad específicos. La cuantificación de intensidad utilizando 32 bits es poco común.\n",
    "\n",
    "<img width=800 src='figs/intensity_res2.png'>"
   ]
  },
  {
   "cell_type": "markdown",
   "metadata": {},
   "source": [
    "A diferencia de la resolución espacial, que debe basarse en una base por unidad de distancia para que sea significativa, es una práctica común referirse al número de bits utilizados para cuantificar la intensidad como “resolución de intensidad”. \n",
    "\n",
    "Por ejemplo, es común decir que una imagen cuya intensidad está cuantificada en 256 niveles tiene 8 bits de resolución de intensidad. Sin embargo, tenga en cuenta que los cambios discernibles de intensidad también están influenciados por los valores de ruido y saturación, y por las capacidades de la percepción humana para analizar e interpretar detalles en el contexto de una escena completa. "
   ]
  },
  {
   "cell_type": "markdown",
   "metadata": {},
   "source": [
    "### Interpolación de imágenes\n",
    "\n",
    "La interpolación se utiliza en tareas como hacer zoom, reducir, rotar y corregir geométricamente imágenes digitales. Por ahora la aplicaremos al cambio de tamaño de imágenes (reducción y zoom), que son básicamente métodos de remuestreo de imágenes. \n",
    "\n",
    "La interpolación es el proceso de utilizar datos conocidos para estimar valores en ubicaciones desconocidas. \n",
    "\n",
    "* Supongamos que una imagen de tamaño 500 * 500 píxeles debe ampliarse 1,5 veces a 750 * 750 píxeles. \n",
    "\n",
    "    * Una forma sencilla de visualizar el zoom es crear una cuadrícula imaginaria de 750 * 750 con el mismo espaciado de píxeles que la imagen original y luego reducirla para que se superponga exactamente a la imagen original. \n",
    "    * Obviamente, el espacio entre píxeles en la cuadrícula reducida de 750 * 750 será menor que el espacio entre píxeles en la imagen original. \n",
    "    * Para asignar un valor de intensidad a cualquier punto de la superposición, buscamos su píxel más cercano en la imagen original subyacente y asignamos la intensidad de ese píxel al nuevo píxel en la cuadrícula de 750 * 750. \n",
    "    * Cuando se han asignado intensidades a todos los puntos en la cuadrícula superpuesta, la expandimos nuevamente al tamaño especificado para obtener la imagen redimensionada.\n",
    "\n"
   ]
  },
  {
   "cell_type": "markdown",
   "metadata": {},
   "source": [
    "Este método se llama interpolación del vecino más cercano, porque asigna a cada nueva ubicación la intensidad de su vecino más cercano en la imagen original. Este enfoque es simple pero tiende a producir artefactos indeseables, como una distorsión severa de los bordes rectos. \n",
    "\n",
    "Un enfoque más adecuado es la interpolación bilineal, en la que utilizamos los cuatro vecinos más cercanos para estimar la intensidad en una ubicación determinada. \n",
    "\n",
    "El siguiente nivel de complejidad es la interpolación bicúbica, que involucra a los dieciséis vecinos más cercanos de un punto."
   ]
  },
  {
   "cell_type": "markdown",
   "metadata": {},
   "source": [
    "<img width=800 src='figs/interpolation1.png'>"
   ]
  },
  {
   "cell_type": "markdown",
   "metadata": {},
   "source": [
    "## 2.5. Relaciones básicas entre pixeles\n",
    "\n",
    "### Vecinos de un pixel\n",
    "\n",
    "Un pixel $p$ en las coordenadas $(x,y)$ tiene dos vecinos horizontales y dos vecinos verticales con coordenadas:\n",
    "\n",
    "$$\n",
    "N_4(p) = \\{(x+1,y),(x-1,y),(x,y+1),(x,y-1)\\}\n",
    "$$\n",
    "\n",
    "A este conjunto de pixeles se le llama el conjunto de 4-vecinos de $p$, y se denota por $N_4(p)$"
   ]
  },
  {
   "cell_type": "markdown",
   "metadata": {},
   "source": [
    "Pero tiene otros cuatro vecinos diagonales, denotado $N_D(p)$:\n",
    "\n",
    "$$\n",
    "N_D(p) = {(x+1,y+1),(x-1,y-1),(x-1,y+1),(x+1,y-1)}\n",
    "$$\n",
    "\n",
    "Estos vecinos, junto con los otros cuatro, se llaman los 8-vecinos de $p$, denotado por:\n",
    "\n",
    "$$\n",
    "N_8(p) = N_4(p) \\cup N_D(p)\n",
    "$$\n",
    "\n",
    "El conjunto de ubicaciones de imágenes de los vecinos de un punto $p$ se llama vecindad de $p$. Se dice que el vecindario está cerrado si contiene a $p$. De lo contrario, se dice que el vecindario está abierto."
   ]
  },
  {
   "cell_type": "markdown",
   "metadata": {},
   "source": [
    "### Adyacencia, conectividad, regiones y límites\n",
    "\n",
    "#### Adyacencia\n",
    "\n",
    "Sea $V$ El conjunto de valores de intensidad utilizados para definir la adyacencia. Por ejemplo, en una imagen binaria $V=\\{ 1 \\}$\n",
    "\n",
    "* 4-adyacencia: $p$ y $q$ son 4-adyacentes si $q \\in N_4(p)$ \n",
    "* 8-adyacencia: $p$ y $q$ son 4-adyacentes si $q \\in N_8(p)$ \n",
    "* m-adyacencia (también llamada adyacencia mixta): $p$ y $q$ son m-adyacentes si:\n",
    "    * $ q \\in N_4(p) $ o\n",
    "    * $ q \\in N_D(p) $ y $ N_4(p) \\cap N_4(q) $ no tienen pixeles con valores en $V$"
   ]
  },
  {
   "cell_type": "markdown",
   "metadata": {},
   "source": [
    "#### Conectividad\n",
    "\n",
    "Un camino (o curva) del pixel $p$ con coordenadas $(x_0, y_0)$, al pixel $q$ con coordenadas $(x_n, y_n)$, es una secuencia de pixeles distintos con coordenadas\n",
    "\n",
    "$$\n",
    "(x_0,y_0),(x_1,y_1),\\dots,(x_n,y_n)\n",
    "$$\n",
    "\n",
    "dónde los puntos $(x_i, y_i)$ y $(x_{i-1}, y_{i-1})$ son adyacentes para $ 1\\leq i \\leq n$. Donde $n$ es la longitud de el camino.\n",
    "\n",
    "Si $(x_0, y_0)=(x_n, y_n)$ el camino es un *camino cerrado*.\n",
    "\n",
    "Se pueden definir $4$, $8$ o $m$-caminos, dependiendo del tipo de adyacencia que se utilice."
   ]
  },
  {
   "cell_type": "markdown",
   "metadata": {},
   "source": [
    "Sea $S$ un subconjunto de píxeles de una imagen. Se dice que dos píxeles $p,q \\in S$ están conectados en $S$ si existe un camino entre ellos que consta enteramente de píxeles en $S$. \n",
    "\n",
    "Para cualquier píxel $p \\in S$, el conjunto de píxeles que están conectados a él en $S$ se denomina componente conectado de $S$. Si solo tiene un componente y ese componente es conexo, entonces $S$ se llama conjunto conexo."
   ]
  },
  {
   "cell_type": "markdown",
   "metadata": {},
   "source": [
    "#### Regiones\n",
    "\n",
    "Sea $R$ un subconjunto de píxeles de una imagen. Llamamos a $R$ una región de la imagen si $R$ es un conjunto conexo. \n",
    "\n",
    "* Dos regiones $R_i$ y $R_j$ son adyacentes si su unión forma un conjunto conexo. \n",
    "* Las regiones que no son adyacentes son disjuntas. \n",
    "* Consideramos las 4 y 8 adyacencias cuando nos referimos a regiones. "
   ]
  },
  {
   "cell_type": "markdown",
   "metadata": {},
   "source": [
    "Supongamos que una imagen contiene $K$ regiones disjuntas, $R_k,k =1,2,...,K$, ninguna de las cuales toca el borde de la imagen. Sea $R_u$ la unión de todas las $K$ regiones, y sea $(R_u )^c$ su complemento. \n",
    "\n",
    "* Llamamos a todos los puntos en $R_u$ primer plano (*foreground*) y \n",
    "* a todos los puntos en $(R_u)^c$ el fondo de la imagen (*background*)."
   ]
  },
  {
   "cell_type": "markdown",
   "metadata": {},
   "source": [
    "#### Límites\n",
    "\n",
    "El límite (también llamado borde o contorno) de una región $R$ es el conjunto de píxeles en $R$ que son adyacentes a píxeles en el complemento de $R$. \n",
    "\n",
    "Dicho de otra manera, el borde de una región es el conjunto de píxeles en la región que debe tener al menos un vecino del fondo. \n",
    "\n",
    "La definición anterior define el borde interior de la región para distinguirla de su borde exterior, que es el borde correspondiente en el fondo. \n"
   ]
  },
  {
   "cell_type": "markdown",
   "metadata": {},
   "source": [
    "Si $R$ resulta ser la imagen completa, entonces su límite (o borde) se define como el conjunto de píxeles en la primera y última fila y columna de la imagen. \n",
    "\n",
    "Esta definición adicional es necesaria porque una imagen no tiene vecinos más allá de su borde. \n",
    "\n",
    "Normalmente, cuando nos referimos a una región, nos referimos a un subconjunto de una imagen, y cualquier píxel en el límite de la región que coincida con el borde de la imagen se incluye implícitamente como parte del límite de la región."
   ]
  },
  {
   "cell_type": "markdown",
   "metadata": {},
   "source": [
    "### Medidas de distancia\n",
    "\n",
    "Para los pixeles $p$, $q$ y $S$, con coordenadas $(x,y)$, $(u,v)$ y $(w,z)$ respectivamente; $D$ es una *función de distancia* o *métrica* si \n",
    "\n",
    "* $D(p,q) \\geq 0 $ - *no negatividad*\n",
    "* $D(p,q) = D(q,p) $ - *simetria*\n",
    "* $ D(p,s) \\leq D(p,q) + D(q,s) $ - *inequidad del triángulo*"
   ]
  },
  {
   "cell_type": "markdown",
   "metadata": {},
   "source": [
    "#### Distancia euclidiana\n",
    "\n",
    "$$\n",
    "D_e(p,q) = \\sqrt{ (x-u)^2 + (y-v)^2}\n",
    "$$\n",
    "\n",
    "Para esta medida de distancia, los píxeles que tienen una distancia menor o igual a algún valor $r$ desde $(x, y)$ son los puntos contenidos en un disco de radio $r$ centrado en $(x, y)$."
   ]
  },
  {
   "cell_type": "markdown",
   "metadata": {},
   "source": [
    "#### Distancia $D_4$\n",
    "\n",
    "También llamada distancia *city-block*, está definida como:\n",
    "\n",
    "$$\n",
    "D_4(p,q) = |x-u| + |y-v|\n",
    "$$\n",
    "\n",
    "En este caso, los píxeles que tienen una distancia $D_4$ desde $(x, y)$ que es menor o igual a algún forma de diamante valorada centrada en $(x,y)$. Por ejemplo, los píxeles con una distancia $D_4 \\leq 2$ desde $(x, y)$ (el punto central) forman lo siguiente contornos de distancia constante:\n",
    "\n",
    "$$\n",
    "\\begin{matrix}\n",
    "  &   & 2 &   &   \\\\\n",
    "  & 2 & 1 & 2 &   \\\\\n",
    "2 & 1 & 0 & 1 & 2 \\\\  \n",
    "  & 2 & 1 & 2 &   \\\\\n",
    "  &   & 2 &   &   \n",
    "\\end{matrix}\n",
    "$$"
   ]
  },
  {
   "cell_type": "markdown",
   "metadata": {},
   "source": [
    "#### Distancia $D_8$\n",
    "\n",
    "También llamada distancia *chessboard*, esta definida como:\n",
    "\n",
    "$$\n",
    "D_8(p,q) = \\max (|x-u|,|y-v|)\n",
    "$$\n",
    "\n",
    "En este caso, los píxeles con una distancia $D_8$ desde $(x, y)$ menor o igual a algún valor $d$ forman un cuadrado centrado en $(x, y)$. Por ejemplo, los píxeles con distancia $D_8 \\leq 2$ forman los siguientes contornos de distancia constante:\n",
    "\n",
    "$$\n",
    "\\begin{matrix}\n",
    "2 & 2 & 2 & 2 & 2 \\\\\n",
    "2 & 1 & 1 & 1 & 2 \\\\ \n",
    "2 & 1 & 0 & 1 & 2 \\\\  \n",
    "2 & 1 & 1 & 1 & 2 \\\\ \n",
    "2 & 2 & 2 & 2 & 2 \\\\ \n",
    "\\end{matrix}\n",
    "$$"
   ]
  },
  {
   "cell_type": "markdown",
   "metadata": {},
   "source": [
    "Tenga en cuenta que las distancias $D_4$ y $D_8$ entre $p$ y $q$ son independientes de cualquier camino que pueda existir entre estos puntos porque estas distancias involucran solo las coordenadas de los puntos."
   ]
  },
  {
   "cell_type": "markdown",
   "metadata": {
    "slideshow": {
     "slide_type": "slide"
    }
   },
   "source": [
    "## 2.6. Introducción a las herramientas matemáticas básicas utilizadas en el procesamiento de imágenes\n",
    "\n",
    "### Operaciones por elemento y matriciales\n",
    "\n",
    "Las operaciones por elementos que involucra una o más imágenes se lleva a cabo píxel por píxel. \n",
    "\n",
    "Anteriormente mencionamos que las imágenes pueden verse de manera equivalente como matrices. De hecho, como verá más adelante en esta sección, hay muchas situaciones en las que las operaciones entre imágenes se llevan a cabo utilizando la teoría de matrices. "
   ]
  },
  {
   "cell_type": "markdown",
   "metadata": {
    "slideshow": {
     "slide_type": "subslide"
    }
   },
   "source": [
    "Es por esta razón que se debe hacer una clara distinción entre operaciones por elementos y matriciales. Por ejemplo, considere las siguientes imágenes (matrices) de $2 \\times 2$:\n",
    "\n",
    "$$\n",
    "\\begin{matrix}\n",
    "    \\begin{bmatrix}\n",
    "    a_{11} & a_{12} \\\\\n",
    "    a_{21} & a_{22}\n",
    "    \\end{bmatrix} \n",
    "    & y &\n",
    "    \\begin{bmatrix}\n",
    "    b_{11} & b_{12} \\\\\n",
    "    b_{21} & b_{22}\n",
    "    \\end{bmatrix}\n",
    "\\end{matrix}\n",
    "$$"
   ]
  },
  {
   "cell_type": "markdown",
   "metadata": {},
   "source": [
    "El producto por elemento (denotado por $\\odot$ o por $\\otimes$) será\n",
    "\n",
    "$$\n",
    "\\begin{bmatrix}\n",
    "    a_{11} & a_{12} \\\\\n",
    "    a_{21} & a_{22}\n",
    "\\end{bmatrix} \\odot\n",
    "\\begin{bmatrix}\n",
    "    b_{11} & b_{12} \\\\\n",
    "    b_{21} & b_{22}\n",
    "\\end{bmatrix} = \n",
    "\\begin{bmatrix}\n",
    "    a_{11}b_{11} & a_{12}b_{12} \\\\\n",
    "    a_{21}b_{21} & a_{22}b_{22}\n",
    "\\end{bmatrix}\n",
    "$$\n",
    "\n",
    "Por otro lado el *producto matriz* de las imágenes se obtiene utilizando las reglas de la multiplicación de matrices\n",
    "\n",
    "$$\n",
    "\\begin{bmatrix}\n",
    "    a_{11} & a_{12} \\\\\n",
    "    a_{21} & a_{22}\n",
    "\\end{bmatrix} \n",
    "\\begin{bmatrix}\n",
    "    b_{11} & b_{12} \\\\\n",
    "    b_{21} & b_{22}\n",
    "\\end{bmatrix} = \n",
    "\\begin{bmatrix}\n",
    "    a_{11}b_{11} + a_{12}b_{21} & a_{11}b_{12} + a_{12}b_{22} \\\\\n",
    "    a_{21}b_{11} + a_{22}b_{21} & a_{21}b_{12} + a_{22}b_{22}\n",
    "\\end{bmatrix}\n",
    "$$"
   ]
  },
  {
   "cell_type": "markdown",
   "metadata": {},
   "source": [
    "### Operaciones lineales vs no lineales\n",
    "\n",
    "Una de las clasificaciones más importantes de un método de procesamiento de imágenes es si es lineal o no lineal. Considere un operador general, $\\mathcal{H}$, que produce una imagen de salida, $g(x, y)$, a partir de una imagen de entrada dada, $f (x, y)$:\n",
    "\n",
    "$$\n",
    "\\mathcal{H}[f(x,y)] = g(x,y)\n",
    "$$\n",
    "\n",
    "Dadas dos constantes arbitrarias, $a$ y $b$, y dos imágenes arbitrarias $f_1 (x, y)$ y $f_2 (x, y)$, Se dice que $\\mathcal{H}$ es un operador lineal si\n",
    "\n",
    "$$\n",
    "\\mathcal{H}[ af_1(x,y) + bf_2(x,y)] = a\\mathcal{H}[f_1(x,y)] + b\\mathcal{H}[f_2(x,y)] = ag_1(x,y) + bg_2(x,y) \n",
    "$$\n"
   ]
  },
  {
   "cell_type": "markdown",
   "metadata": {},
   "source": [
    "Esta ecuación indica que el resultado de una operación lineal aplicada a la suma de dos entradas es lo mismo que realizar la operación individualmente en las entradas y luego sumar los resultados. \n",
    "\n",
    "Además, el resultado de una operación lineal sobre una constante multiplicada por una entrada es el mismo que el resultado de la operación debido a la entrada original multiplicada por esa constante. \n",
    "\n",
    "La primera propiedad se llama propiedad de aditividad y la segunda se llama propiedad de homogeneidad.\n",
    "\n",
    "Por definición, si un operador falla en satisfacer la ecuación anterior, se dice que es *no lineal*."
   ]
  },
  {
   "cell_type": "markdown",
   "metadata": {},
   "source": [
    "Como ejemplo, supongamos que $\\mathcal{H}$ es el operador sumatorio $\\sum$.\n",
    "\n",
    "Para probar su linealidad comenzamos describiendo el lado izquierdo de la ecuación anterior, para tratar de demostrar que es igual a la parte de la derecha.\n",
    "\n",
    "$$\n",
    "\\sum {[af_1(x,y) + bf_2(x,y)]} = \\sum{af_1(x,y)} + \\sum{bf_2(x,y)} \\\\\n",
    "= a\\sum{f_1(x,y)} + b\\sum{f_2(x,y)} = ag_1(x,y) + bg_2(x,y)\n",
    "$$"
   ]
  },
  {
   "cell_type": "markdown",
   "metadata": {},
   "source": [
    "Ahora probemos cuando $\\mathcal{H}$ es la operación $\\max$. Para ello lo haremos con un pequeño ejemplo. Considere las dos imagenes\n",
    "\n",
    "$$\n",
    "\\begin{matrix}\n",
    "    f_1 = \n",
    "    \\begin{bmatrix}\n",
    "    0 & 2 \\\\\n",
    "    2 & 3\n",
    "    \\end{bmatrix} \n",
    "    & y &\n",
    "    f_2 =\n",
    "    \\begin{bmatrix}\n",
    "    6 & 5 \\\\\n",
    "    4 & 7\n",
    "    \\end{bmatrix}\n",
    "\\end{matrix}\n",
    "$$\n",
    "\n"
   ]
  },
  {
   "cell_type": "markdown",
   "metadata": {},
   "source": [
    "y supongamos que $a = 1$ y $b = -1$. Para verificar la linealidad, calculamos el lado izquierdo de la ecuación\n",
    "\n",
    "$$\n",
    "\\max \\left\\{\n",
    "    (1)\n",
    "    \\begin{bmatrix}\n",
    "        0 & 2 \\\\\n",
    "        2 & 3\n",
    "    \\end{bmatrix} + (-1)\n",
    "    \\begin{bmatrix}\n",
    "        6 & 5 \\\\\n",
    "        4 & 7\n",
    "    \\end{bmatrix} \n",
    "\\right\\} = \n",
    "\\max \\left\\{\n",
    "\\begin{bmatrix}\n",
    "    -6 & -3 \\\\\n",
    "    -2 & -4\n",
    "\\end{bmatrix}\n",
    "\\right\\} = -2\n",
    "$$"
   ]
  },
  {
   "cell_type": "markdown",
   "metadata": {},
   "source": []
  }
 ],
 "metadata": {
  "celltoolbar": "Slideshow",
  "kernelspec": {
   "display_name": "Python 3 (ipykernel)",
   "language": "python",
   "name": "python3"
  },
  "language_info": {
   "codemirror_mode": {
    "name": "ipython",
    "version": 3
   },
   "file_extension": ".py",
   "mimetype": "text/x-python",
   "name": "python",
   "nbconvert_exporter": "python",
   "pygments_lexer": "ipython3",
   "version": "3.9.18"
  }
 },
 "nbformat": 4,
 "nbformat_minor": 2
}
