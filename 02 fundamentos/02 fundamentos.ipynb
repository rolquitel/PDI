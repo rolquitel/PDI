{
 "cells": [
  {
   "cell_type": "markdown",
   "metadata": {
    "slideshow": {
     "slide_type": "slide"
    }
   },
   "source": [
    "# 2. Fundamentos de imágenes digitales"
   ]
  },
  {
   "cell_type": "markdown",
   "metadata": {
    "slideshow": {
     "slide_type": "slide"
    }
   },
   "source": [
    "## 2.1. Elementos de la percepción visual\n",
    "\n",
    "Aunque el campo de procesamiento de imágenes está construido en fundamentos matemáticos, el análisis y la intuición humana muchas veces juegan un papel en la selección de una técnica contra otra.\n",
    "\n",
    "Por ello, entender las características básicas de la percepción humana es un primer paso en nuestra jornada hacia el procesamiento de imágenes.\n"
   ]
  },
  {
   "cell_type": "markdown",
   "metadata": {
    "slideshow": {
     "slide_type": "subslide"
    }
   },
   "source": [
    "### Estructura del ojo humano\n",
    "\n",
    "La retina cuenta con dos tipos de receptores: conos y bastones\n",
    "\n",
    "Hay entre 6 y 7 millones de conos en cada ojo. Se encuentran localizados principalmente en la porción central de la retina, llamada fovea, y que es altamente sensible al color\n",
    "\n",
    "Los humanos podemos resolver detalles finos debido a que cada cono está conectado a su propia terminal nerviosa\n",
    "\n",
    "La visión proporcionada por los conos es llamada fotópica o visión de luz brillante\n",
    "\n",
    "Contamos con un número mucho más grande de bastones, entre 75 y 150 millones se encuentran distribuidos en la retina\n"
   ]
  },
  {
   "cell_type": "markdown",
   "metadata": {
    "slideshow": {
     "slide_type": "subslide"
    }
   },
   "source": [
    "![Estructura del ojo humano](figs/ojo.png)"
   ]
  },
  {
   "cell_type": "markdown",
   "metadata": {
    "slideshow": {
     "slide_type": "subslide"
    }
   },
   "source": [
    "![Conos y bastones](figs/conos_bastones.png)"
   ]
  },
  {
   "cell_type": "markdown",
   "metadata": {
    "slideshow": {
     "slide_type": "subslide"
    }
   },
   "source": [
    "### Formación de la imagen en el ojo humano\n",
    "\n",
    "![Visión humana](figs/formacion.png)"
   ]
  },
  {
   "cell_type": "markdown",
   "metadata": {
    "slideshow": {
     "slide_type": "slide"
    }
   },
   "source": [
    "## 2.2. La luz y el espectro electromagnético\n",
    "\n",
    "En 1666, Sir Isaac Newton descubrió que cuando un rayo de luz solar pasa a través de un prisma de vidrio, el rayo de luz que emerge no es blanco sino que consiste en un espectro continuo de colores que van desde el violeta en un extremo hasta el rojo en el otro.\n",
    "\n",
    "La gama de colores que percibimos en la luz visible es una pequeña porción del espectro electromagnético. \n",
    "\n",
    "En un extremo del espectro están las ondas de radio con longitudes de onda miles de millones de veces más largas que las de la luz visible. En el otro extremo del espectro se encuentran los rayos gamma con longitudes de onda millones de veces más pequeñas que las de la luz visible.\n",
    "\n",
    "![Expectro](figs/espectro.png)"
   ]
  },
  {
   "cell_type": "markdown",
   "metadata": {
    "slideshow": {
     "slide_type": "subslide"
    }
   },
   "source": [
    "$$ \\lambda = \\frac{c}{f}$$\n",
    "\n",
    "- $\\lambda$ es la longitud de onda (m)\n",
    "- $c$ es la velocidad de la luz ($2.998×10^8$ m/s)\n",
    "- $f$ es la frecuencia (Hz)\n"
   ]
  },
  {
   "cell_type": "markdown",
   "metadata": {
    "slideshow": {
     "slide_type": "subslide"
    }
   },
   "source": [
    "$$ E = hf $$\n",
    "\n",
    "- $E$ es la energía (eV)\n",
    "- $h$ es la constante de Planck ($6.626174×10^{−27}$)\n"
   ]
  },
  {
   "cell_type": "markdown",
   "metadata": {
    "slideshow": {
     "slide_type": "slide"
    }
   },
   "source": [
    "## 2.3. Adquisición y sensado de imagen\n",
    "\n",
    "### Sensores\n",
    "\n",
    "Sensor simple y sensor lineal\n",
    "\n",
    "![Sensores 1](figs/sensores_1.png)\n",
    "\n"
   ]
  },
  {
   "cell_type": "markdown",
   "metadata": {
    "slideshow": {
     "slide_type": "subslide"
    }
   },
   "source": [
    "Matriz de sensores\n",
    "\n",
    "![Sensores 2](figs/sensores_2.png)"
   ]
  },
  {
   "cell_type": "markdown",
   "metadata": {
    "slideshow": {
     "slide_type": "subslide"
    }
   },
   "source": [
    "Sensor rotativo\n",
    "\n",
    "![Sensores 3](figs/sensores_3.png)"
   ]
  },
  {
   "cell_type": "markdown",
   "metadata": {
    "slideshow": {
     "slide_type": "subslide"
    }
   },
   "source": [
    "### Arreglos de sensores\n",
    "\n",
    "![Arreglos de sensores](figs/arreglos.png)"
   ]
  },
  {
   "cell_type": "markdown",
   "metadata": {
    "slideshow": {
     "slide_type": "subslide"
    }
   },
   "source": [
    "### Modelo simple para la formación de imágenes\n",
    "\n",
    "$$ f(x,y) = i(x,y) r(x,y)$$\n",
    "\n",
    "- $ 0 \\leq f(x,y) < \\infty$\n",
    "- $ x,y $ son coordenadas en el espacio de la imagen\n",
    "- $ 0 \\leq i(x,y) < \\infty$ es la función de iluminación, determinada por la fuente de iluminación\n",
    "- $ 0 \\leq r(x,y) \\leq 1 $ es la función de reflectancia, determinada por las características del objeto"
   ]
  },
  {
   "cell_type": "markdown",
   "metadata": {
    "slideshow": {
     "slide_type": "subslide"
    }
   },
   "source": [
    "$$ \\ell = f(x,y) $$\n",
    "\n",
    "- $ L_{min} \\leq \\ell \\leq L_{max} $\n",
    "    * $ L_{min} = i_{min} r_{min} $ es NO negativa\n",
    "    * $ L_{max} = i_{max} r_{max} $ es finita"
   ]
  },
  {
   "cell_type": "markdown",
   "metadata": {
    "slideshow": {
     "slide_type": "slide"
    }
   },
   "source": [
    "## 2.4. Cuantización y muestreo de imágenes\n",
    "\n",
    "* La salida de la mayoría de los sensores es un voltaje contino cuya amplitud y comportamiento espacial están relacionados con el fenómeno físico que está sensando.\n",
    "\n",
    "* Para crear una imagen digital, necesitamos convertir los datos continuos en un formato digital. \n",
    "\n",
    "* Esto requiere dos procesos: muestreo y cuantización.\n"
   ]
  },
  {
   "cell_type": "markdown",
   "metadata": {
    "slideshow": {
     "slide_type": "subslide"
    }
   },
   "source": [
    "![Aspectos básicos](figs/aspectos_basicos.png)"
   ]
  },
  {
   "cell_type": "markdown",
   "metadata": {
    "slideshow": {
     "slide_type": "subslide"
    }
   },
   "source": [
    "### Resolución espacial\n",
    "\n",
    "* Depende de la frecuencia de muestreo. \n",
    "\n",
    "* Es el número de elementos por unidad de longitud.\n"
   ]
  },
  {
   "cell_type": "markdown",
   "metadata": {
    "slideshow": {
     "slide_type": "subslide"
    }
   },
   "source": [
    "### Resolución espectral\n",
    "\n",
    "* Depende de la cantidad de niveles de cuantización. \n",
    "\n",
    "* Es el número máximo de niveles posible que puede tener cada elemento en una imagen una vez digitalizada.\n"
   ]
  },
  {
   "cell_type": "markdown",
   "metadata": {
    "slideshow": {
     "slide_type": "subslide"
    }
   },
   "source": [
    "Resolución espacial y espectral\n",
    "\n",
    "![Resolución espacial y espectral](figs/resoluciones.png)"
   ]
  },
  {
   "cell_type": "markdown",
   "metadata": {
    "slideshow": {
     "slide_type": "subslide"
    }
   },
   "source": [
    "### Representación de imágenes digitales\n",
    "\n",
    "* El resultado del muestreo y la cuantización es una matriz de números reales. \n",
    "\n",
    "* Los valores de las coordenadas de origen son (𝑥,𝑦)=(0,0). \n",
    "\n",
    "* Los siguientes valores a lo largo de la primera fila son: (𝑥,𝑦)=(0,1);(0,2);(0,3);…\n",
    "\n",
    "* Éstos no son valores reales de las coordenadas físicas cuando la imagen fue muestreada, sino los de la segunda (tercera, cuarta) muestra a lo largo de la primera fila. \n"
   ]
  },
  {
   "cell_type": "markdown",
   "metadata": {
    "slideshow": {
     "slide_type": "subslide"
    }
   },
   "source": [
    "* De acuerdo a esta mutación, en el caso de una imagen de M filas y columnas, la imagen digital se puede representar como sigue:\n",
    "\n",
    "\\begin{equation}\n",
    "f(x,y) = \n",
    "\\begin{bmatrix}\n",
    "f(0,0) & f(0,1) & \\cdots & f(0,N-1)\\\\\n",
    "f(1,0) & f(1,1) & \\cdots & f(1,N-1)\\\\\n",
    "\\vdots & \\vdots &        & \\vdots \\\\\n",
    "f(M-1,0) & f(M-1,1) & \\cdots & f(M,N-1)\n",
    "\\end{bmatrix}\n",
    "\\end{equation}"
   ]
  },
  {
   "cell_type": "markdown",
   "metadata": {
    "slideshow": {
     "slide_type": "subslide"
    }
   },
   "source": [
    "* Otra forma de representar el modelo es a través de una matriz\n",
    "\n",
    "\\begin{equation}\n",
    "A = \n",
    "\\begin{bmatrix}\n",
    "a_{0,0} & a_{0,1} & \\cdots & a_{0,N-1}\\\\\n",
    "a_{1,0} & a_{1,1} & \\cdots & a_{1,N-1}\\\\\n",
    "\\vdots & \\vdots &        & \\vdots \\\\\n",
    "a_{M-1,0} & a_{M-1,1} & \\cdots & a_{M,N-1}\n",
    "\\end{bmatrix}\n",
    "\\end{equation}"
   ]
  },
  {
   "cell_type": "markdown",
   "metadata": {
    "slideshow": {
     "slide_type": "subslide"
    }
   },
   "source": [
    "![Representación de imágenes digitales](figs/representacion.png)"
   ]
  },
  {
   "cell_type": "markdown",
   "metadata": {
    "slideshow": {
     "slide_type": "subslide"
    }
   },
   "source": [
    "![Elementos de representación](figs/representaciones_2.png)"
   ]
  },
  {
   "cell_type": "markdown",
   "metadata": {
    "slideshow": {
     "slide_type": "subslide"
    }
   },
   "source": [
    "* Los niveles de quantización permitidos para cada pixel se representan por el número entero 𝐿. \n",
    "\n",
    "* Normalmente, con fines de facilitar el procesamiento, el almacenamiento y el muestreo, este número es, típicamente, una potencia de 2, es decir: \n",
    "    * $𝐿=2^k$\n",
    "\n",
    "\n",
    "* 𝑘 es el número de bits que se emplearán en la representación de los niveles\n",
    "* que representa valores igualmente espaciados y enteros en el intervalo $[0,𝐿−1]$\n"
   ]
  },
  {
   "cell_type": "markdown",
   "metadata": {
    "slideshow": {
     "slide_type": "subslide"
    }
   },
   "source": [
    "* Sea $I_(M \\times N)$ una imagen de $M$ filas y $N$ columnas\n",
    "* Entonces, el número de bits necesarios para almacenar dicha imagen es\n",
    "\n",
    "    * $ b = MNk $\n",
    "    * $ b = kN^2 $ si $ M=N$\n",
    "\n"
   ]
  },
  {
   "cell_type": "markdown",
   "metadata": {
    "slideshow": {
     "slide_type": "subslide"
    }
   },
   "source": [
    "![Bytes necesarios para una imagen de NxN](figs/grafica_bytes.png)"
   ]
  },
  {
   "cell_type": "markdown",
   "metadata": {
    "slideshow": {
     "slide_type": "slide"
    }
   },
   "source": [
    "\n",
    "\n",
    "\n",
    "\n",
    "## 2.5. Relaciones básicas entre pixeles\n",
    "## 2.6. Introducción a las herramientas matemáticas básicas utilizadas en el procesamiento de imágenes\n"
   ]
  },
  {
   "cell_type": "markdown",
   "metadata": {
    "slideshow": {
     "slide_type": "subslide"
    }
   },
   "source": []
  }
 ],
 "metadata": {
  "celltoolbar": "Slideshow",
  "kernelspec": {
   "display_name": "Python 3 (ipykernel)",
   "language": "python",
   "name": "python3"
  },
  "language_info": {
   "codemirror_mode": {
    "name": "ipython",
    "version": 3
   },
   "file_extension": ".py",
   "mimetype": "text/x-python",
   "name": "python",
   "nbconvert_exporter": "python",
   "pygments_lexer": "ipython3",
   "version": "3.9.18"
  }
 },
 "nbformat": 4,
 "nbformat_minor": 2
}
