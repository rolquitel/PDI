{
 "cells": [
  {
   "cell_type": "code",
   "execution_count": null,
   "metadata": {
    "slideshow": {
     "slide_type": "skip"
    }
   },
   "outputs": [],
   "source": [
    "import warnings\n",
    "import numpy as np\n",
    "\n",
    "warnings.filterwarnings('ignore')"
   ]
  },
  {
   "cell_type": "markdown",
   "metadata": {
    "slideshow": {
     "slide_type": "slide"
    }
   },
   "source": [
    "# 4. Filtrado en el dominio de la frecuencia"
   ]
  },
  {
   "cell_type": "markdown",
   "metadata": {
    "slideshow": {
     "slide_type": "slide"
    }
   },
   "source": [
    "## 4.1. Bases"
   ]
  },
  {
   "cell_type": "markdown",
   "metadata": {
    "slideshow": {
     "slide_type": "slide"
    }
   },
   "source": [
    "### 4.1.1. Un poco de historia"
   ]
  },
  {
   "cell_type": "markdown",
   "metadata": {
    "slideshow": {
     "slide_type": "subslide"
    }
   },
   "source": [
    "El matemático francés Jean Baptiste Joseph Fourier nació en 1768 en la ciudad de Auxerre, Francia. \n",
    "\n",
    "La contribución por la que se le recuerda más fue esbozada en unas memorias de 1807 y posteriormente publicada en 1822 en su libro La Théorie Analitique de la Chaleur (La teoría analítica del calor). \n",
    "\n",
    "* Este libro fue traducido al inglés 55 años después por Freeman. \n",
    "\n",
    "Básicamente, la contribución de Fourier en este campo establece que cualquier función periódica se puede expresar como la suma de senos y/o cosenos de diferentes frecuencias, cada uno de ellos multiplicado por un coeficiente diferente (ahora llamamos a esta suma serie de Fourier). \n",
    "\n",
    "* No importa cuán complicada sea la función; si es periódico y satisface algunas condiciones matemáticas suaves, puede representarse mediante dicha suma. \n",
    "\n",
    "* Esto se da por sentado ahora, pero, en el momento en que apareció por primera vez, el concepto de que funciones complicadas podían representarse como una suma de senos y cosenos simples no era en absoluto intuitivo. "
   ]
  },
  {
   "cell_type": "markdown",
   "metadata": {},
   "source": [
    "<center>\n",
    "<img width=400 src='figs/serie_fourier.png'>"
   ]
  },
  {
   "cell_type": "markdown",
   "metadata": {
    "slideshow": {
     "slide_type": "subslide"
    }
   },
   "source": [
    "Las funciones que no son periódicas (pero cuyo área bajo la curva es finita) se pueden expresar como la integral de senos y/o cosenos multiplicada por una función de ponderación. \n",
    "\n",
    "* La formulación en este caso es la transformada de Fourier, y su utilidad es incluso mayor que la serie de Fourier en muchas disciplinas teóricas y aplicadas. \n",
    "\n",
    "Ambas representaciones comparten la importante característica de que una función, expresada en una serie de Fourier o en una transformada, puede reconstruirse (recuperarse) completamente mediante un proceso inverso, sin pérdida de información.\n",
    "\n",
    "Esta es una de las características más importantes de estas representaciones porque nos permite trabajar en el dominio de Fourier (generalmente llamado dominio de la frecuencia) y luego regresar al dominio original de la función sin perder ninguna información. "
   ]
  },
  {
   "cell_type": "markdown",
   "metadata": {
    "slideshow": {
     "slide_type": "subslide"
    }
   },
   "source": [
    "La llegada de las computadoras digitales y el “descubrimiento” de un algoritmo de transformada rápida de Fourier (FFT) a principios de la década de 1960 revolucionaron el campo del procesamiento de señales. \n",
    "\n",
    "* Estas dos tecnologías centrales permitieron por primera vez el procesamiento práctico de una serie de señales de excepcional importancia, desde monitores y escáneres médicos hasta comunicaciones electrónicas modernas."
   ]
  },
  {
   "cell_type": "markdown",
   "metadata": {
    "slideshow": {
     "slide_type": "slide"
    }
   },
   "source": [
    "## 4.2. Conceptos preliminares"
   ]
  },
  {
   "cell_type": "markdown",
   "metadata": {
    "slideshow": {
     "slide_type": "slide"
    }
   },
   "source": [
    "### 4.2.1. Números complejos"
   ]
  },
  {
   "cell_type": "markdown",
   "metadata": {
    "slideshow": {
     "slide_type": "subslide"
    }
   },
   "source": [
    "Un número complejo $C$, está definido como $ C = R + jI $, dónde $R$ e $I$ son números reales, y $ j=\\sqrt{-1} $. Aquí, $R$ denota la parte real del número complejo e $I$ su parte imaginaria. \n",
    "\n",
    "Los números reales son un subconjunto de números complejos en los que I = 0. \n",
    "\n",
    "El conjugado de un número complejo $C$, denotado $C^*$, se define como $ C^* = R - jI $"
   ]
  },
  {
   "cell_type": "markdown",
   "metadata": {
    "slideshow": {
     "slide_type": "subslide"
    }
   },
   "source": [
    "Los números complejos pueden verse geométricamente como puntos en un plano (llamado plano complejo) cuya abscisa es el eje real (valores de $R$) y cuya ordenada es el eje imaginario (valores de $I$). \n",
    "\n",
    "Es decir, el número complejo $R + jI$ es el punto $(R, I)$ en el sistema de coordenadas del plano complejo.\n",
    "\n",
    "A veces es útil representar números complejos en coordenadas polares: $ C = |C|(\\cos \\theta + j \\sin \\theta) $, donde $ |C| = \\sqrt{R^2 + I^2} $ es la longitud del vector que se extiende desde el origen del plano complejo hasta el punto $(R, I)$, y $\\theta$ es el ángulo entre el vector y el eje real. \n"
   ]
  },
  {
   "cell_type": "markdown",
   "metadata": {},
   "source": [
    "Empleando la fórmula de Euler: \n",
    "\n",
    "$$\n",
    "e^{j\\theta} = \\cos \\theta + j\\sin \\theta\n",
    "$$\n",
    "\n",
    "nos da la representación en coordenadas polares: $ C = |C| e ^{j\\theta} $."
   ]
  },
  {
   "cell_type": "markdown",
   "metadata": {
    "slideshow": {
     "slide_type": "subslide"
    }
   },
   "source": [
    "Las ecuaciones anteriores son aplicables también a funciones complejas. \n",
    "\n",
    "Una función compleja, $F(u)$, de una variable real $u$, se puede expresar como la suma $F(u) = R(u) + jI(u)$, donde $R(u)$ e $I(u)$ son los valores reales y funciones componentes imaginarias de $F(u)$. \n"
   ]
  },
  {
   "cell_type": "markdown",
   "metadata": {
    "slideshow": {
     "slide_type": "slide"
    }
   },
   "source": [
    "### 4.2.2. Series de Fourier"
   ]
  },
  {
   "cell_type": "markdown",
   "metadata": {
    "slideshow": {
     "slide_type": "subslide"
    }
   },
   "source": [
    "Como se indicó en la sección anterior, una función f(t) de una variable continua, t, que es periódica con un período, T, se puede expresar como la suma de senos y cosenos multiplicada por coeficientes apropiados. Esta suma, conocida como serie de Fourier, tiene la forma\n",
    "\n",
    "$$\n",
    "f(t) = \\sum _{n=-\\infty} ^{\\infty} c_n e^{jt\\frac{2\\pi n}{T}}\n",
    "$$\n",
    "\n",
    "donde\n",
    "\n",
    "$$\n",
    "c_n = \\frac{1}{T} \\int _{-\\frac{T}{2}} ^{\\frac{T}{2}} f(t)e^{-jt\\frac{2\\pi n}{T}} dt\n",
    "$$\n",
    "\n",
    "son coeficientes."
   ]
  },
  {
   "cell_type": "markdown",
   "metadata": {
    "slideshow": {
     "slide_type": "slide"
    }
   },
   "source": [
    "### 4.2.3. Impulsos"
   ]
  },
  {
   "cell_type": "markdown",
   "metadata": {
    "slideshow": {
     "slide_type": "slide"
    }
   },
   "source": [
    "### 4.2.4. La transformada de Fourier de funciones de una variable continua"
   ]
  },
  {
   "cell_type": "markdown",
   "metadata": {
    "slideshow": {
     "slide_type": "subslide"
    }
   },
   "source": [
    "La transformada de Fourier de una función continua $f(t)$ de una variable continua $t$, denotada como $\\Im\\{f(t)\\}$, está definida por la ecuación:\n",
    "\n",
    "$$\n",
    "\\Im\\{f(t)\\} = F(\\mu) = \\int_{-\\infty}^{\\infty} f(t) e^{-j 2 \\pi \\mu t} d t\n",
    "$$\n",
    "\n",
    "donde $\\mu$ es una variable continua.\n",
    "\n",
    "Ya que $t$ desaparece con la integración $\\Im\\{f(t)\\}$ es una función solo de $\\mu$. Esto significa que $\\Im\\{f(t)\\} = F(\\mu)$."
   ]
  },
  {
   "cell_type": "markdown",
   "metadata": {
    "slideshow": {
     "slide_type": "subslide"
    }
   },
   "source": [
    "Por el contrario, dada $F(\\mu)$, podemos obtener $f(t$) usando la *transformada inversa de Fourier*, descrita como:\n",
    "\n",
    "$$\n",
    "f(t)=\\int_{-\\infty}^{\\infty} F(\\mu) e^{j 2 \\pi \\mu t} d \\mu\n",
    "$$\n",
    "\n",
    "donde hicimos uso del hecho de que la variable $\\mu$ está integrada en la transformada inversa y escribimos simplemente $f(t)$. \n"
   ]
  },
  {
   "cell_type": "markdown",
   "metadata": {
    "slideshow": {
     "slide_type": "subslide"
    }
   },
   "source": [
    "Las ecuaciones anteriores comprenden el llamado par de transformadas de Fourier, a menudo denotado como $f(t) \\Leftrightarrow F(m)$. \n",
    "\n",
    "* La doble flecha indica que la expresión de la derecha se obtiene tomando la transformada de Fourier directa de la expresión de la izquierda, mientras que la expresión de la izquierda se obtiene tomando la transformada inversa de Fourier de la expresión de la derecha."
   ]
  },
  {
   "cell_type": "markdown",
   "metadata": {
    "slideshow": {
     "slide_type": "subslide"
    }
   },
   "source": [
    "#### Ejemplo: La transformada de Fourier de la figura\n",
    "\n",
    "<center>\n",
    "<img width=800 src='figs/ft_example.png'>"
   ]
  },
  {
   "cell_type": "markdown",
   "metadata": {
    "slideshow": {
     "slide_type": "subslide"
    }
   },
   "source": [
    "$$\n",
    "\n",
    "\\begin{matrix}\n",
    "F(\\mu)=\\int_{-\\infty}^{\\infty} f(t) e^{-j 2 \\pi \\mu t} d t \n",
    "= \\int_{-\\frac{W}{2}}^{\\frac{W}{2}} A e^{-j 2 \\pi \\mu t} d t \\\\\n",
    "= \\frac{-A}{2j\\pi\\mu}\\left[ e^{-2j\\pi\\mu t}  \\right]_{-\\frac{W}{2}} ^{\\frac{W}{2}} \\\\\n",
    "= \\frac{-A}{2j\\pi\\mu}\\left[ e^{-j\\pi\\mu W} - e^{j\\pi\\mu W} \\right] \\\\\n",
    "= \\frac{A}{2j\\pi\\mu}\\left[ e^{j\\pi\\mu W} - e^{-j\\pi\\mu W} \\right] \\\\\n",
    "= AW\\frac{\\sin{\\pi \\mu W}}{\\pi \\mu W}\n",
    "\\end{matrix}\n",
    "$$"
   ]
  },
  {
   "cell_type": "markdown",
   "metadata": {
    "slideshow": {
     "slide_type": "slide"
    }
   },
   "source": [
    "### 4.2.5. Convolución"
   ]
  },
  {
   "cell_type": "markdown",
   "metadata": {
    "slideshow": {
     "slide_type": "subslide"
    }
   },
   "source": [
    "Estamos interesados en la convolución de dos funciones continuas, $f(t)$ y $h(t)$, de una variable continua $t$. La convolución de estas dos funciones, denotada como antes por el operador  $\\star$, se define como:\n",
    "\n",
    "$$\n",
    "(f \\star h)(t) \\equiv \\int_{\\infty}^{\\infty} f(\\tau) h(t-\\tau) d \\tau\n",
    "$$\n",
    "\n",
    "de aquí se sigue que, si definimos $H(\\mu) = \\Im\\{h(t)\\}$, entonces:\n",
    "\n",
    "$$\n",
    "\\Im\\{(h \\star f)(t)\\} = (H\\cdot F)(\\mu)\n",
    "$$\n",
    "donde \"$\\cdot$\" indica multiplicación.\n"
   ]
  },
  {
   "cell_type": "markdown",
   "metadata": {
    "slideshow": {
     "slide_type": "subslide"
    }
   },
   "source": [
    "Si nos referimos al dominio de $t$ como dominio espacial y al dominio de $\\mu$ como dominio de frecuencia, la ecuación anterior nos dice que la transformada de Fourier de la convolución de dos funciones en el dominio espacial es igual a la producto en el dominio de la frecuencia de las transformadas de Fourier de las dos funciones. \n",
    "\n",
    "Por el contrario, si tenemos el producto de las dos transformadas, podemos obtener la convolución en el dominio espacial calculando la transformada inversa de Fourier. \n",
    "\n",
    "Es decir, $f \\star h$ y $H \\cdot F$ son un par de transformadas de Fourier. \n",
    "\n",
    "$$\n",
    "(f \\star h)(t) \\Leftrightarrow(H \\cdot F)(\\mu)\n",
    "$$\n",
    "\n",
    "Este resultado es la mitad del teorema de convolución."
   ]
  },
  {
   "cell_type": "markdown",
   "metadata": {
    "slideshow": {
     "slide_type": "subslide"
    }
   },
   "source": [
    "Siguiendo un desarrollo similar resultaría en la otra mitad del teorema de convolución:\n",
    "\n",
    "$$\n",
    "(f \\cdot h)(t) \\Leftrightarrow(H \\star F)(\\mu)\n",
    "$$\n",
    "\n",
    "que establece que la convolución en el dominio de la frecuencia es análoga a la multiplicación en el dominio espacial, estando ambas relacionadas por las transformadas de Fourier directa e inversa, respectivamente."
   ]
  },
  {
   "cell_type": "markdown",
   "metadata": {
    "slideshow": {
     "slide_type": "slide"
    }
   },
   "source": [
    "## 4.3. Muestreo y la transformada de Fourier de funciones muestreadas"
   ]
  },
  {
   "cell_type": "markdown",
   "metadata": {
    "slideshow": {
     "slide_type": "subslide"
    }
   },
   "source": [
    "En esta parte utilizamos los conceptos de la sección anterior para formular una base para expresar matemáticamente el muestreo. Partiendo de principios básicos, esto nos llevará a la transformada discreta de Fourier."
   ]
  },
  {
   "cell_type": "markdown",
   "metadata": {
    "slideshow": {
     "slide_type": "slide"
    }
   },
   "source": [
    "### 4.3.1. Muestreo"
   ]
  },
  {
   "cell_type": "markdown",
   "metadata": {},
   "source": [
    "Las funciones continuas deben convertirse en una secuencia de valores discretos antes de poder procesarlas en una computadora. \n",
    "* Esto requiere muestreo y cuantificación.\n",
    "\n",
    "* Considere una función continua, $f(t)$, que deseamos muestrear a intervalos uniformes, $\\Delta T$, de la variable independiente $t$ (ver figura). \n",
    "\n",
    "* Inicialmente suponemos que la función se extiende desde $-\\infty$ hasta $+\\infty$ con respecto a $t$. \n"
   ]
  },
  {
   "cell_type": "markdown",
   "metadata": {},
   "source": [
    "Una forma de modelar el muestreo es multiplicar $f (t )$ por una función de muestreo igual a un tren de impulsos separados por $\\Delta T$ unidades:\n",
    "\n",
    "$$\n",
    "\\tilde{f}(t)=f(t) s_{\\Delta T}(t)=\\sum_{n=-\\infty}^{\\infty} f(t) \\delta(t-n \\Delta T)\n",
    "$$\n",
    "\n",
    "donde $\\tilde{f}(t)$ denota la función muestreada. \n",
    "\n",
    "* Cada componente de esta suma es un impulso ponderado por el valor de $f(t)$ en la ubicación del impulso, como muestra la figura. \n",
    "\n",
    "* El valor de cada muestra viene dado por la “fuerza” del impulso ponderado."
   ]
  },
  {
   "cell_type": "markdown",
   "metadata": {},
   "source": [
    "<center>\n",
    "<img width=800 src='figs/muestreo1.png'>"
   ]
  },
  {
   "cell_type": "markdown",
   "metadata": {},
   "source": [
    "<center>\n",
    "<img width=800 src='figs/muestreo2.png'>"
   ]
  },
  {
   "cell_type": "markdown",
   "metadata": {
    "slideshow": {
     "slide_type": "slide"
    }
   },
   "source": [
    "### 4.3.2. Transformada de Fourier de funciones muestreadas"
   ]
  },
  {
   "cell_type": "markdown",
   "metadata": {},
   "source": [
    "Sea $F(\\mu)$ la transformada de Fourier de una función continua $f(t)$. \n",
    "\n",
    "* Como se analizó anteriormente, la función muestreada correspondiente, $\\tilde{f}(t)$, es el producto de $f(t)$ y un tren de impulsos. \n",
    "* Sabemos por el teorema de convolución que la transformada de Fourier del producto de dos funciones en el dominio del espacio es la convolución de las transformadas de las dos funciones en el dominio de la frecuencia. \n"
   ]
  },
  {
   "cell_type": "markdown",
   "metadata": {},
   "source": [
    "Así, la transformada de Fourier de la función muestreada es:\n",
    "\n",
    "$$\n",
    "\\begin{aligned}\n",
    "\\tilde{F}(\\mu) & =\\Im\\{\\tilde{f}(t)\\}=\\Im\\left\\{f(t) s_{\\Delta T}(t)\\right\\} \\\\\n",
    "& =(F \\star S)(\\mu)\n",
    "\\end{aligned}\n",
    "$$\n",
    "\n",
    "dónde (del ejemplo anterior):\n",
    "\n",
    "$$\n",
    "S(\\mu)=\\frac{1}{\\Delta T} \\sum_{n=-\\infty}^{\\infty} \\delta\\left(\\mu-\\frac{n}{\\Delta T}\\right)\n",
    "$$\n",
    "\n",
    "es la transformada de Fourier el tren de impulsos $s_{\\delta T} (t)$."
   ]
  },
  {
   "cell_type": "markdown",
   "metadata": {
    "slideshow": {
     "slide_type": "slide"
    }
   },
   "source": [
    "### 4.3.3. El teorema del muestreo"
   ]
  },
  {
   "cell_type": "markdown",
   "metadata": {},
   "source": [
    "Una función $f(t)$ cuya transformada de Fourier es cero para valores de frecuencias fuera de un intervalo finito (banda) $[−\\mu _{max}, \\mu _{max}]$ alrededor del origen se llama función de banda limitada. \n",
    "\n",
    "Como se muestra en la figura, un valor más alto de $\\Delta T$ haría que los períodos en $F (\\mu)$ se fusionaran; un valor más bajo proporcionaría una separación clara entre los períodos."
   ]
  },
  {
   "cell_type": "markdown",
   "metadata": {},
   "source": [
    "<center>\n",
    "<img width=600 src='figs/muestreo3.png'>"
   ]
  },
  {
   "cell_type": "markdown",
   "metadata": {},
   "source": [
    "Podemos recuperar $f(t)$ a partir de sus muestras si podemos aislar una única copia de $F(\\mu)$ de la secuencia periódica de copias de esta función contenida en $\\tilde{F}(\\mu)$, la transformada de la función muestreada $\\tilde{f}(t)$. \n",
    "\n",
    "$\\tilde{F}(\\mu)$ es una función periódica continua con período $1/\\Delta T$. Por lo tanto, todo lo que necesitamos es un período completo para caracterizar toda la transformación. \n",
    "\n",
    "* En otras palabras, podemos recuperar $f(t)$ de ese único período tomando su transformada inversa de Fourier.\n",
    "\n",
    "* Es posible extraer de $\\tilde{F}(\\mu)$ un único período que sea igual a $F(\\mu)$ si la separación entre copias es suficiente, es decir si \n",
    "\n",
    "$$\\frac{1}{\\Delta T} > 2\\mu _{max}$$"
   ]
  },
  {
   "cell_type": "markdown",
   "metadata": {},
   "source": [
    "Esta ecuación indica que una función continua de banda limitada se puede recuperar completamente a partir de un conjunto de sus muestras si las muestras se adquieren a una velocidad que excede el doble del contenido de frecuencia más alto de la función.\n",
    "\n",
    "* Esto se conoce como *el teorema de muestreo*."
   ]
  },
  {
   "cell_type": "markdown",
   "metadata": {
    "slideshow": {
     "slide_type": "slide"
    }
   },
   "source": [
    "## 4.4. La transformada discreta de Fourier (DFT) de una variable"
   ]
  },
  {
   "cell_type": "markdown",
   "metadata": {},
   "source": [
    "La transformada de Fourier de una función muestreada de banda limitada que se extiende desde $-\\infty$ a $\\infty$ es una función continua y periódica que también se extiende desde $-\\infty$ a $\\infty$. \n",
    "\n",
    "* En la práctica, trabajamos con un número finito de muestras por lo que debemos encontrar la DFT de dichos conjuntos de muestras finitos.\n",
    "\n",
    "Tenemos una expresión para la transformada $\\tilde{F}(\\mu)$, de los datos muestreados en términos de la transformación de la función original. \n",
    "\n",
    "* Encontramos esa expresión a partir de la definición de la transformada de Fourier:"
   ]
  },
  {
   "cell_type": "markdown",
   "metadata": {},
   "source": [
    "$$\n",
    "\\begin{aligned}\n",
    "\\tilde{F}(\\mu) & =\\int_{-\\infty}^{\\infty} \\tilde{f}(t) e^{-j 2 \\pi \\mu t} d t=\\int_{-\\infty}^{\\infty} \\sum_{n=-\\infty}^{\\infty} f(t) \\delta(t-n \\Delta T) e^{-j 2 \\pi \\mu t} d t \\\\\n",
    "& =\\sum_{n=-\\infty}^{\\infty} \\int_{-\\infty}^{\\infty} f(t) \\delta(t-n \\Delta T) e^{-j 2 \\pi \\mu t} d t \\\\\n",
    "& =\\sum_{n=-\\infty}^{\\infty} f_n e^{-j 2 \\pi \\mu n \\Delta T}\n",
    "\\end{aligned}\n",
    "$$"
   ]
  },
  {
   "cell_type": "markdown",
   "metadata": {},
   "source": [
    "Como solamente tenemos un número finito de muestras ($M$), entonces supongamos que queremos obtener $M$ muestras equiespaciadas de $F(\\mu)$ tomadas durante el intervalo de un período desde $\\mu = 0$ hasta $\\mu = 1 / \\Delta T$. Esto se logra mediante tomar las muestras a las siguientes frecuencias:\n",
    "\n",
    "$$\n",
    "\\mu=\\frac{m}{M \\Delta T} \\quad m=0,1,2, \\ldots, M-1\n",
    "$$\n",
    "\n"
   ]
  },
  {
   "cell_type": "markdown",
   "metadata": {},
   "source": [
    "Sustituyendo en la ecuación previa:\n",
    "\n",
    "$$\n",
    "F_m=\\sum_{n=0}^{M-1} f_n e^{-j 2 \\pi m n / M} \\quad m=0,1,2, \\ldots, M-1\n",
    "$$\n",
    "\n",
    "Esta expresión es la transformada discreta de Fourier que estamos buscando.\n",
    "\n",
    "* Dado un conjunto $\\{f_m\\}$ que consta de $M$ muestras de $f(t)$, la ecuación produce un conjunto $\\{F_m\\}$ de $M$ valores complejos correspondientes a la transformada discreta de Fourier del conjunto de muestras de entrada."
   ]
  },
  {
   "cell_type": "markdown",
   "metadata": {
    "slideshow": {
     "slide_type": "slide"
    }
   },
   "source": [
    "### 4.4.1. Obteniendo la DFT a partir de la FT de una función muestreada"
   ]
  },
  {
   "cell_type": "markdown",
   "metadata": {
    "slideshow": {
     "slide_type": "slide"
    }
   },
   "source": [
    "### 4.4.2. Relación entre muestreo e intervalos de frecuencia"
   ]
  },
  {
   "cell_type": "markdown",
   "metadata": {
    "slideshow": {
     "slide_type": "slide"
    }
   },
   "source": [
    "## 4.5. Extensión a funciones de dos variables"
   ]
  },
  {
   "cell_type": "markdown",
   "metadata": {
    "slideshow": {
     "slide_type": "slide"
    }
   },
   "source": [
    "### 4.5.1. El impulso 2D"
   ]
  },
  {
   "cell_type": "markdown",
   "metadata": {
    "slideshow": {
     "slide_type": "slide"
    }
   },
   "source": [
    "### 4.5.2. La transformada de Fourier 2D continua"
   ]
  },
  {
   "cell_type": "markdown",
   "metadata": {
    "slideshow": {
     "slide_type": "slide"
    }
   },
   "source": [
    " ### 4.5.3. Muestreo 2D y el teorema de muestreo en 2D"
   ]
  },
  {
   "cell_type": "markdown",
   "metadata": {
    "slideshow": {
     "slide_type": "slide"
    }
   },
   "source": [
    "### 4.5.4. Aliasing en imágenes"
   ]
  },
  {
   "cell_type": "markdown",
   "metadata": {
    "slideshow": {
     "slide_type": "slide"
    }
   },
   "source": [
    "### 4.5.5. La DFT en 2D y su inversa"
   ]
  },
  {
   "cell_type": "markdown",
   "metadata": {
    "slideshow": {
     "slide_type": "slide"
    }
   },
   "source": [
    "## 4.6. Propiedades de las DFT y IDFT en 2D"
   ]
  },
  {
   "cell_type": "markdown",
   "metadata": {
    "slideshow": {
     "slide_type": "slide"
    }
   },
   "source": [
    "### 4.6.1. Relación entre intervalos espaciales y de frecuencia"
   ]
  },
  {
   "cell_type": "markdown",
   "metadata": {
    "slideshow": {
     "slide_type": "slide"
    }
   },
   "source": [
    "### 4.6.2. Traslación y rotación"
   ]
  },
  {
   "cell_type": "markdown",
   "metadata": {
    "slideshow": {
     "slide_type": "slide"
    }
   },
   "source": [
    "### 4.6.3. Periodicidad"
   ]
  },
  {
   "cell_type": "markdown",
   "metadata": {
    "slideshow": {
     "slide_type": "slide"
    }
   },
   "source": [
    "### 4.6.4. Simetría"
   ]
  },
  {
   "cell_type": "markdown",
   "metadata": {
    "slideshow": {
     "slide_type": "slide"
    }
   },
   "source": [
    "### 4.6.5. Espectro de Fourier y el ángulo de fase"
   ]
  },
  {
   "cell_type": "markdown",
   "metadata": {
    "slideshow": {
     "slide_type": "slide"
    }
   },
   "source": [
    "### 4.6.6. El teorema de convolución 2D discreta"
   ]
  },
  {
   "cell_type": "markdown",
   "metadata": {
    "slideshow": {
     "slide_type": "slide"
    }
   },
   "source": [
    "## 4.7. Bases para filtrado en el dominio de la frecuencia"
   ]
  },
  {
   "cell_type": "markdown",
   "metadata": {
    "slideshow": {
     "slide_type": "slide"
    }
   },
   "source": [
    "### 4.7.1. Fundamentos"
   ]
  },
  {
   "cell_type": "markdown",
   "metadata": {
    "slideshow": {
     "slide_type": "slide"
    }
   },
   "source": [
    "### 4.7.2. Pasos para el filtrado en el dominio de la frecuencia"
   ]
  },
  {
   "cell_type": "markdown",
   "metadata": {
    "slideshow": {
     "slide_type": "slide"
    }
   },
   "source": [
    "### 4.7.3. Correspondencia entre el filtrado en los dominios espacial y de frecuencia"
   ]
  },
  {
   "cell_type": "markdown",
   "metadata": {
    "slideshow": {
     "slide_type": "slide"
    }
   },
   "source": [
    "## 4.8. Filtros pasa bajas en el dominio de la frecuencia"
   ]
  },
  {
   "cell_type": "markdown",
   "metadata": {
    "slideshow": {
     "slide_type": "slide"
    }
   },
   "source": [
    "### 4.8.1. Filtro pasa bajas ideal"
   ]
  },
  {
   "cell_type": "markdown",
   "metadata": {
    "slideshow": {
     "slide_type": "slide"
    }
   },
   "source": [
    "### 4.8.2. Filtro pasa bajas Gaussiano"
   ]
  },
  {
   "cell_type": "markdown",
   "metadata": {
    "slideshow": {
     "slide_type": "slide"
    }
   },
   "source": [
    "### 4.8.3. Filtro pasa bajas de Butterworth"
   ]
  },
  {
   "cell_type": "markdown",
   "metadata": {
    "slideshow": {
     "slide_type": "slide"
    }
   },
   "source": [
    "## 4.9. Filtros pasa altas en el dominio de la frecuencia"
   ]
  },
  {
   "cell_type": "markdown",
   "metadata": {
    "slideshow": {
     "slide_type": "slide"
    }
   },
   "source": [
    "### 4.9.1. Filtros pasa altas ideal, Gaussiano y de Butterworth, a partir de filtros pasa bajas"
   ]
  },
  {
   "cell_type": "markdown",
   "metadata": {
    "slideshow": {
     "slide_type": "slide"
    }
   },
   "source": [
    "### 4.9.2. El Laplaciano en el dominio de la frecuencia"
   ]
  },
  {
   "cell_type": "markdown",
   "metadata": {
    "slideshow": {
     "slide_type": "slide"
    }
   },
   "source": [
    "### 4.9.3. Enmascaramiento de enfoque, filtrado de alto aumento y filtrado de énfasis de alta frecuencia"
   ]
  },
  {
   "cell_type": "markdown",
   "metadata": {
    "slideshow": {
     "slide_type": "slide"
    }
   },
   "source": [
    "### 4.9.4. Filtrado homomórfico"
   ]
  },
  {
   "cell_type": "markdown",
   "metadata": {
    "slideshow": {
     "slide_type": "slide"
    }
   },
   "source": [
    "## 4.10. Filtrado selectivo"
   ]
  },
  {
   "cell_type": "markdown",
   "metadata": {
    "slideshow": {
     "slide_type": "slide"
    }
   },
   "source": [
    "### 4.10.1. Filtros pasa banda y rechaza banda"
   ]
  },
  {
   "cell_type": "markdown",
   "metadata": {
    "slideshow": {
     "slide_type": "slide"
    }
   },
   "source": [
    "### 4.10.2. Filtros de muesca"
   ]
  },
  {
   "cell_type": "markdown",
   "metadata": {
    "slideshow": {
     "slide_type": "slide"
    }
   },
   "source": [
    "## 4.11. La transformada rápida de Fourier (FFT)"
   ]
  },
  {
   "cell_type": "markdown",
   "metadata": {
    "slideshow": {
     "slide_type": "slide"
    }
   },
   "source": [
    "### 4.11.1. Separabilidad"
   ]
  },
  {
   "cell_type": "markdown",
   "metadata": {
    "slideshow": {
     "slide_type": "slide"
    }
   },
   "source": [
    "### 4.11.2. Calculando la IDFT utilizando el algortimo de DFT"
   ]
  },
  {
   "cell_type": "markdown",
   "metadata": {
    "slideshow": {
     "slide_type": "slide"
    }
   },
   "source": [
    "### 4.11.3. La transformada rápida"
   ]
  },
  {
   "cell_type": "markdown",
   "metadata": {
    "slideshow": {
     "slide_type": "slide"
    }
   },
   "source": [
    "# Fin de la Unidad 4"
   ]
  }
 ],
 "metadata": {
  "kernelspec": {
   "display_name": "curso_pdi",
   "language": "python",
   "name": "python3"
  },
  "language_info": {
   "name": "python",
   "version": "3.11.5"
  }
 },
 "nbformat": 4,
 "nbformat_minor": 2
}
